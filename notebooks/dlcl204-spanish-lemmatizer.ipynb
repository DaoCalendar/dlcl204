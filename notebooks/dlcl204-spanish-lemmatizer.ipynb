{
 "cells": [
  {
   "cell_type": "markdown",
   "metadata": {},
   "source": [
    "# Spanish lemmatizer with spaCy\n",
    "\n",
    "This Jupyter notebook takes a text file, or folder of text files in Spanish, and creates a set of lemmatized derivative files (where all words are in their dictionary form, and not inflected). These lemmatized files can then be used for searching, or other computational text analysis methods.\n",
    "\n",
    "For this notebook, we'll use the natural language processing (NLP) library spaCy, which can support multiple different languages."
   ]
  },
  {
   "cell_type": "markdown",
   "metadata": {},
   "source": [
    "## First-time setup: spaCy library\n",
    "The code cells below below install the *spacy* package which can do the actual lemmatizing. You only need to run it the first time you use this notebook in a particular environment (laptop, virtual machine, etc.) You can skip it the next time you use the notebook, but nothing bad will happen if you re-run it."
   ]
  },
  {
   "cell_type": "code",
   "execution_count": 2,
   "metadata": {},
   "outputs": [
    {
     "name": "stdout",
     "output_type": "stream",
     "text": [
      "Requirement already satisfied: spacy in /opt/anaconda3/lib/python3.8/site-packages (2.3.2)\n",
      "Requirement already satisfied: blis<0.5.0,>=0.4.0 in /opt/anaconda3/lib/python3.8/site-packages (from spacy) (0.4.1)\n",
      "Requirement already satisfied: tqdm<5.0.0,>=4.38.0 in /opt/anaconda3/lib/python3.8/site-packages (from spacy) (4.47.0)\n",
      "Requirement already satisfied: srsly<1.1.0,>=1.0.2 in /opt/anaconda3/lib/python3.8/site-packages (from spacy) (1.0.2)\n",
      "Requirement already satisfied: thinc==7.4.1 in /opt/anaconda3/lib/python3.8/site-packages (from spacy) (7.4.1)\n",
      "Requirement already satisfied: catalogue<1.1.0,>=0.0.7 in /opt/anaconda3/lib/python3.8/site-packages (from spacy) (1.0.0)\n",
      "Requirement already satisfied: plac<1.2.0,>=0.9.6 in /opt/anaconda3/lib/python3.8/site-packages (from spacy) (1.1.3)\n",
      "Requirement already satisfied: requests<3.0.0,>=2.13.0 in /opt/anaconda3/lib/python3.8/site-packages (from spacy) (2.24.0)\n",
      "Requirement already satisfied: murmurhash<1.1.0,>=0.28.0 in /opt/anaconda3/lib/python3.8/site-packages (from spacy) (1.0.2)\n",
      "Requirement already satisfied: wasabi<1.1.0,>=0.4.0 in /opt/anaconda3/lib/python3.8/site-packages (from spacy) (0.8.0)\n",
      "Requirement already satisfied: cymem<2.1.0,>=2.0.2 in /opt/anaconda3/lib/python3.8/site-packages (from spacy) (2.0.3)\n",
      "Requirement already satisfied: preshed<3.1.0,>=3.0.2 in /opt/anaconda3/lib/python3.8/site-packages (from spacy) (3.0.2)\n",
      "Requirement already satisfied: setuptools in /opt/anaconda3/lib/python3.8/site-packages (from spacy) (49.2.0.post20200714)\n",
      "Requirement already satisfied: numpy>=1.15.0 in /opt/anaconda3/lib/python3.8/site-packages (from spacy) (1.18.5)\n",
      "Requirement already satisfied: chardet<4,>=3.0.2 in /opt/anaconda3/lib/python3.8/site-packages (from requests<3.0.0,>=2.13.0->spacy) (3.0.4)\n",
      "Requirement already satisfied: certifi>=2017.4.17 in /opt/anaconda3/lib/python3.8/site-packages (from requests<3.0.0,>=2.13.0->spacy) (2020.6.20)\n",
      "Requirement already satisfied: urllib3!=1.25.0,!=1.25.1,<1.26,>=1.21.1 in /opt/anaconda3/lib/python3.8/site-packages (from requests<3.0.0,>=2.13.0->spacy) (1.25.9)\n",
      "Requirement already satisfied: idna<3,>=2.5 in /opt/anaconda3/lib/python3.8/site-packages (from requests<3.0.0,>=2.13.0->spacy) (2.10)\n"
     ]
    }
   ],
   "source": [
    "#Imports the module you need to download and install the spaCy modules\n",
    "import sys\n",
    "#Installs spaCy\n",
    "!{sys.executable} -m pip install spacy"
   ]
  },
  {
   "cell_type": "markdown",
   "metadata": {},
   "source": [
    "## First-time setup: download language data\n",
    "The cell below downloads the Portuguese data for the spaCy NLP library. \n",
    "\n",
    "You can also check out [other language data available for spaCy](https://spacy.io/models), but you'll need to make a few other modifications to the code later on in order to use it. If you're new to Python, you might want to try one of the [other lemmatizer notebooks](https://github.com/quinnanya/dlcl204/tree/master/notebooks)."
   ]
  },
  {
   "cell_type": "code",
   "execution_count": 3,
   "metadata": {},
   "outputs": [
    {
     "name": "stdout",
     "output_type": "stream",
     "text": [
      "Collecting es_core_news_sm==2.3.1\n",
      "  Downloading https://github.com/explosion/spacy-models/releases/download/es_core_news_sm-2.3.1/es_core_news_sm-2.3.1.tar.gz (16.2 MB)\n",
      "\u001b[K     |████████████████████████████████| 16.2 MB 3.6 MB/s eta 0:00:01\n",
      "\u001b[?25hRequirement already satisfied: spacy<2.4.0,>=2.3.0 in /opt/anaconda3/lib/python3.8/site-packages (from es_core_news_sm==2.3.1) (2.3.2)\n",
      "Requirement already satisfied: preshed<3.1.0,>=3.0.2 in /opt/anaconda3/lib/python3.8/site-packages (from spacy<2.4.0,>=2.3.0->es_core_news_sm==2.3.1) (3.0.2)\n",
      "Requirement already satisfied: murmurhash<1.1.0,>=0.28.0 in /opt/anaconda3/lib/python3.8/site-packages (from spacy<2.4.0,>=2.3.0->es_core_news_sm==2.3.1) (1.0.2)\n",
      "Requirement already satisfied: wasabi<1.1.0,>=0.4.0 in /opt/anaconda3/lib/python3.8/site-packages (from spacy<2.4.0,>=2.3.0->es_core_news_sm==2.3.1) (0.8.0)\n",
      "Requirement already satisfied: catalogue<1.1.0,>=0.0.7 in /opt/anaconda3/lib/python3.8/site-packages (from spacy<2.4.0,>=2.3.0->es_core_news_sm==2.3.1) (1.0.0)\n",
      "Requirement already satisfied: tqdm<5.0.0,>=4.38.0 in /opt/anaconda3/lib/python3.8/site-packages (from spacy<2.4.0,>=2.3.0->es_core_news_sm==2.3.1) (4.47.0)\n",
      "Requirement already satisfied: setuptools in /opt/anaconda3/lib/python3.8/site-packages (from spacy<2.4.0,>=2.3.0->es_core_news_sm==2.3.1) (49.2.0.post20200714)\n",
      "Requirement already satisfied: numpy>=1.15.0 in /opt/anaconda3/lib/python3.8/site-packages (from spacy<2.4.0,>=2.3.0->es_core_news_sm==2.3.1) (1.18.5)\n",
      "Requirement already satisfied: plac<1.2.0,>=0.9.6 in /opt/anaconda3/lib/python3.8/site-packages (from spacy<2.4.0,>=2.3.0->es_core_news_sm==2.3.1) (1.1.3)\n",
      "Requirement already satisfied: requests<3.0.0,>=2.13.0 in /opt/anaconda3/lib/python3.8/site-packages (from spacy<2.4.0,>=2.3.0->es_core_news_sm==2.3.1) (2.24.0)\n",
      "Requirement already satisfied: blis<0.5.0,>=0.4.0 in /opt/anaconda3/lib/python3.8/site-packages (from spacy<2.4.0,>=2.3.0->es_core_news_sm==2.3.1) (0.4.1)\n",
      "Requirement already satisfied: cymem<2.1.0,>=2.0.2 in /opt/anaconda3/lib/python3.8/site-packages (from spacy<2.4.0,>=2.3.0->es_core_news_sm==2.3.1) (2.0.3)\n",
      "Requirement already satisfied: thinc==7.4.1 in /opt/anaconda3/lib/python3.8/site-packages (from spacy<2.4.0,>=2.3.0->es_core_news_sm==2.3.1) (7.4.1)\n",
      "Requirement already satisfied: srsly<1.1.0,>=1.0.2 in /opt/anaconda3/lib/python3.8/site-packages (from spacy<2.4.0,>=2.3.0->es_core_news_sm==2.3.1) (1.0.2)\n",
      "Requirement already satisfied: chardet<4,>=3.0.2 in /opt/anaconda3/lib/python3.8/site-packages (from requests<3.0.0,>=2.13.0->spacy<2.4.0,>=2.3.0->es_core_news_sm==2.3.1) (3.0.4)\n",
      "Requirement already satisfied: idna<3,>=2.5 in /opt/anaconda3/lib/python3.8/site-packages (from requests<3.0.0,>=2.13.0->spacy<2.4.0,>=2.3.0->es_core_news_sm==2.3.1) (2.10)\n",
      "Requirement already satisfied: certifi>=2017.4.17 in /opt/anaconda3/lib/python3.8/site-packages (from requests<3.0.0,>=2.13.0->spacy<2.4.0,>=2.3.0->es_core_news_sm==2.3.1) (2020.6.20)\n",
      "Requirement already satisfied: urllib3!=1.25.0,!=1.25.1,<1.26,>=1.21.1 in /opt/anaconda3/lib/python3.8/site-packages (from requests<3.0.0,>=2.13.0->spacy<2.4.0,>=2.3.0->es_core_news_sm==2.3.1) (1.25.9)\n",
      "Building wheels for collected packages: es-core-news-sm\n",
      "  Building wheel for es-core-news-sm (setup.py) ... \u001b[?25ldone\n",
      "\u001b[?25h  Created wheel for es-core-news-sm: filename=es_core_news_sm-2.3.1-py3-none-any.whl size=16216999 sha256=b3107729d09d6d7cc5f1e250c32e6a167d10263361e21c489392abeb799e2a5c\n",
      "  Stored in directory: /private/var/folders/3r/55b5kjpd4s14_tg80r24vs7r0000gq/T/pip-ephem-wheel-cache-sxnw1xjp/wheels/15/e8/45/2a2a3f4149a8ba8d1caebbee35188c87126dcf51d04ee56e30\n",
      "Successfully built es-core-news-sm\n",
      "Installing collected packages: es-core-news-sm\n",
      "Successfully installed es-core-news-sm-2.3.1\n",
      "\u001b[38;5;2m✔ Download and installation successful\u001b[0m\n",
      "You can now load the model via spacy.load('es_core_news_sm')\n"
     ]
    }
   ],
   "source": [
    "import spacy\n",
    "!{sys.executable} -m spacy download es_core_news_sm"
   ]
  },
  {
   "cell_type": "markdown",
   "metadata": {},
   "source": [
    "## Importing modules\n",
    "The next code cells imports the modules you need to run this notebook. Run them every time you open this notebook. "
   ]
  },
  {
   "cell_type": "code",
   "execution_count": null,
   "metadata": {},
   "outputs": [],
   "source": [
    "#os is used to navigate your folder directories (e.g. change folders to where you files are stored)\n",
    "import os\n",
    "\n",
    "#imports spaCy\n",
    "import spacy\n",
    "\n",
    "#imports the Spanish model\n",
    "import es_core_news_sm\n",
    "\n",
    "#sets up a function so you can run the Spanish model on texts\n",
    "esnlp = pt_core_news_sm.load()"
   ]
  },
  {
   "cell_type": "markdown",
   "metadata": {},
   "source": [
    "The code cell below imports modules that are useful for cleaning texts, particularly texts converted from ebooks that include typographically fancy single and double quote characters that can break the lemmatization. It also sets up a function, `clean_string`, that we'll use on the text before running the lemmatizer.\n",
    "\n",
    "If your text doesn't have any of these problematic characters, nothing will happen (and that's okay)."
   ]
  },
  {
   "cell_type": "code",
   "execution_count": null,
   "metadata": {},
   "outputs": [],
   "source": [
    "#Imports a module for converting Unicode characters to ASCII (English alphabet & punctuation)\n",
    "import unidecode\n",
    "#Imports a module with data about all the Unicode characters\n",
    "import unicodedata\n",
    "#Imports a module that does regular expressions, a kind of fancy find-and-replace syntax\n",
    "import re\n",
    "\n",
    "#Defines a character filter function\n",
    "def char_filter(string):\n",
    "    #Defines the set of Latin characters\n",
    "    latin = re.compile('[a-zA-Z]+')\n",
    "    #For each character in the text...\n",
    "    for char in unicodedata.normalize('NFC', string):\n",
    "        #Convert it to its ASCII equivalent\n",
    "        decoded = unidecode.unidecode(char)\n",
    "        #If the ASCII equivalent is a letter\n",
    "        if latin.match(decoded):\n",
    "            #Print the original character (so you don't lose accented letters)\n",
    "            yield char\n",
    "        #Otherwise...\n",
    "        else:\n",
    "            #Print the ASCII equivalent (e.g. standard quote character)\n",
    "            yield decoded\n",
    "\n",
    "#Defines a function for cleaning a text\n",
    "def clean_string(string):\n",
    "    #Runs the character filter function and reassmbles the text\n",
    "    return \"\".join(char_filter(string))"
   ]
  },
  {
   "cell_type": "markdown",
   "metadata": {},
   "source": [
    "## Lemmatizing a single file\n",
    "Put the full path to your text file in the cell below, using the correct syntax for your operating system. \n",
    "\n",
    "For instance, the default path a text file in the Documents directory is (substituting your user name on the computer for YOUR-USER-NAME):\n",
    "\n",
    "* On Mac: '/Users/YOUR-USER-NAME/Documents/YOUR-TEXT-FILE.txt'\n",
    "* On Windows: 'C:\\\\Users\\\\YOUR-USER-NAME\\\\Documents\\\\YOUR-TEXT-FILE.txt'"
   ]
  },
  {
   "cell_type": "code",
   "execution_count": null,
   "metadata": {},
   "outputs": [],
   "source": [
    "#Put the full path to your file between the single quotes here\n",
    "filepath = '/Users/qad/Downloads/el-retorno-del-jedi.txt'\n",
    "\n",
    "#The outname is the name of the lemmatized file that this notebook creates\n",
    "#If you want it to be named something other than the original file name + -lemmatized\n",
    "#you can change that here\n",
    "outname = filepath.replace('.txt', '-lemmatized.txt')"
   ]
  },
  {
   "cell_type": "code",
   "execution_count": null,
   "metadata": {},
   "outputs": [],
   "source": [
    "#Opens the file you specified\n",
    "with open(filepath, 'r') as f:\n",
    "    #Creates an empty text file with -lemmatized.txt appended to the name\n",
    "    with open(outname, 'w') as out:\n",
    "        #Reads the text of the file you specified\n",
    "        text = f.read()\n",
    "        #Removes any problematic punctuation\n",
    "        cleantext = clean_string(text)\n",
    "        #Does Spanish NLP on the cleaned text\n",
    "        doc = esnlp(cleantext)\n",
    "        #For each word in the text...\n",
    "        for token in doc:\n",
    "            #Write the lemma to the new text file with the lemmatized text\n",
    "            out.write(token.lemma_)\n",
    "            #Write a space after each word\n",
    "            out.write(' ')\n",
    "            #Print the lemmas to the screen below, with a space between them\n",
    "            print(token.lemma_, end=' ')"
   ]
  },
  {
   "cell_type": "markdown",
   "metadata": {},
   "source": [
    "## Lemmatizing a folder of text files\n",
    "Put the full path to your folder of text files in the cell below, using the correct syntax for your operating system. \n",
    "\n",
    "For instance, the default path to a folder called \"spanish\" in the Documents directory is (substituting your user name on the computer for YOUR-USER-NAME):\n",
    "\n",
    "* On Mac: '/Users/YOUR-USER-NAME/Documents/spanish'\n",
    "* On Windows: 'C:\\\\Users\\\\YOUR-USER-NAME\\\\Documents\\\\spanish'\n",
    "\n",
    "With a whole folder of texts, printing the full text to the screen can make your Jupyter notebook file get very big, so it's been \"turned off\" here. If you want to see the script at work, you can remove the `#` character before the `#print(token.lemma_, end=' ')` at the end of the second cell below."
   ]
  },
  {
   "cell_type": "code",
   "execution_count": null,
   "metadata": {},
   "outputs": [],
   "source": [
    "#Put the full path to your folder between single quotes here\n",
    "textfolder = '/Users/qad/Documents/spanish'\n",
    "#Changes the working directory to the folder you specified\n",
    "os.chdir(textfolder)"
   ]
  },
  {
   "cell_type": "code",
   "execution_count": null,
   "metadata": {},
   "outputs": [],
   "source": [
    "#For every file in the folder you specified...\n",
    "for filename in os.listdir(textfolder):\n",
    "    #If it's a text file, but not one of the text files with just lemmas\n",
    "    if filename.endswith('.txt') and not filename.endswith('-lemmatized.txt'):\n",
    "        #The outname is the name of the lemmatized file that this notebook creates\n",
    "        #If you want it to be named something other than the original file name + -lemmatized\n",
    "        #you can change that here\n",
    "        outname = filename.replace('.txt', '-lemmatized.txt')\n",
    "        #Opens the file you specified\n",
    "        with open(filename, 'r') as f:\n",
    "            #Creates an empty text file with -lemmatized.txt appended to the name\n",
    "            with open(outname, 'w') as out:\n",
    "                #Reads the text of the file you specified\n",
    "                text = f.read()\n",
    "                #Removes any problematic punctuation\n",
    "                cleantext = clean_string(text)\n",
    "                #Does Spanish NLP on the cleaned text\n",
    "                doc = esnlp(cleantext)\n",
    "                #For each word in the text...\n",
    "                for token in doc:\n",
    "                    #Write the lemma to the new text file with the lemmatized text\n",
    "                    out.write(token.lemma_)\n",
    "                    #Write a space after each word\n",
    "                    out.write(' ')\n",
    "                    #Print the lemmas to the screen below, with a space between them\n",
    "                    #print(token.lemma_, end=' ')"
   ]
  },
  {
   "cell_type": "markdown",
   "metadata": {},
   "source": [
    "## About\n",
    "\n",
    "This Jupyter notebook was originally developed by Quinn Dombrowski for use in [DLCL 204: Digital Humanities Across Borders](https://github.com/quinnanya/dlcl204) at Stanford University, fall 2020. "
   ]
  }
 ],
 "metadata": {
  "kernelspec": {
   "display_name": "Python 3",
   "language": "python",
   "name": "python3"
  },
  "language_info": {
   "codemirror_mode": {
    "name": "ipython",
    "version": 3
   },
   "file_extension": ".py",
   "mimetype": "text/x-python",
   "name": "python",
   "nbconvert_exporter": "python",
   "pygments_lexer": "ipython3",
   "version": "3.8.3"
  }
 },
 "nbformat": 4,
 "nbformat_minor": 2
}
