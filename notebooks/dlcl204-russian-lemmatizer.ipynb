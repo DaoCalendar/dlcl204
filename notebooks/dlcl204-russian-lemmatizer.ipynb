{
 "cells": [
  {
   "cell_type": "markdown",
   "metadata": {},
   "source": [
    "# Russian lemmatizer\n",
    "\n",
    "This Jupyter notebook takes a text file, or folder of text files in Russian, and creates a set of lemmatized derivative files (where all words are in their dictionary form, and not inflected). These lemmatized files can then be used for searching, or other computational text analysis methods."
   ]
  },
  {
   "cell_type": "markdown",
   "metadata": {},
   "source": [
    "## First-time setup\n",
    "The first code cell below installs the *pymystem3* package which can do the actual lemmatizing. You only need to run it the first time you use this notebook in a particular environment (laptop, virtual machine, etc.) You can skip it the next time you use the notebook, but nothing bad will happen if you re-run it."
   ]
  },
  {
   "cell_type": "code",
   "execution_count": null,
   "metadata": {},
   "outputs": [],
   "source": [
    "#Imports the sys module which you can use to perform system-level things \n",
    "#like installing new modules\n",
    "import sys\n",
    "\n",
    "#Installs pymystem3\n",
    "!{sys.executable} -m pip install pymystem3"
   ]
  },
  {
   "cell_type": "markdown",
   "metadata": {},
   "source": [
    "## Importing modules\n",
    "\n",
    "The next code cell imports the modules you need to run this notebook. Run it every time you open this notebook. \n",
    "\n",
    "The first time you run it, you'll see a message about \"Installing mystem\"."
   ]
  },
  {
   "cell_type": "code",
   "execution_count": null,
   "metadata": {},
   "outputs": [],
   "source": [
    "#os is used for navigating your filesystem and getting to the files you want to lemmatize\n",
    "import os\n",
    "\n",
    "#pymystem3 is the module that does the actual lemmatizing\n",
    "from pymystem3 import Mystem\n",
    "\n",
    "#loads mystem\n",
    "mystem = Mystem()"
   ]
  },
  {
   "cell_type": "markdown",
   "metadata": {},
   "source": [
    "## Lemmatizing a single file\n",
    "Put the full path to your text file in the cell below, using the correct syntax for your operating system. \n",
    "\n",
    "For instance, the default path a text file in the Documents directory is (substituting your user name on the computer for YOUR-USER-NAME):\n",
    "\n",
    "* On Mac: '/Users/YOUR-USER-NAME/Documents/YOUR-TEXT-FILE.txt'\n",
    "* On Windows: 'C:\\\\\\Users\\\\\\YOUR-USER-NAME\\\\\\Documents\\\\\\YOUR-TEXT-FILE.txt'"
   ]
  },
  {
   "cell_type": "code",
   "execution_count": null,
   "metadata": {},
   "outputs": [],
   "source": [
    "#Put the full path to your file between the single quotes here\n",
    "filepath = '/Users/qad/Documents/baiki-iz-kantiniy-mos-aisli.txt'\n",
    "\n",
    "#The outname is the name of the lemmatized file that this notebook creates\n",
    "#If you want it to be named something other than the original file name + -lemmatized\n",
    "#you can change that here\n",
    "outname = filepath.replace('.txt', '-lemmatized.txt')"
   ]
  },
  {
   "cell_type": "code",
   "execution_count": null,
   "metadata": {},
   "outputs": [],
   "source": [
    "#Opens the file you specified\n",
    "with open(filepath, 'r', encoding='utf8') as f:\n",
    "    #Creates an empty text file with -lemmatized.txt appended to the name\n",
    "    with open(outname, 'w', encoding='utf8') as out:\n",
    "        #Reads the text of the file you specified\n",
    "        text = f.read()\n",
    "        #Lemmatizes the text\n",
    "        tokens = mystem.lemmatize(text)\n",
    "        #Creates a Python list of the lemmas\n",
    "        tokens = [token for token in tokens]\n",
    "        #Changes the lemmas from a Python list to a text string\n",
    "        #Lemmas are separated by a space\n",
    "        lemmatized = \"\".join(tokens)\n",
    "        #Writes the lemmas to the text file with -lemmatized appended to the name\n",
    "        out.write(lemmatized)"
   ]
  },
  {
   "cell_type": "markdown",
   "metadata": {},
   "source": [
    "## Lemmatizing a folder of text files\n",
    "Put the full path to your folder of text files in the cell below, using the correct syntax for your operating system. \n",
    "\n",
    "For instance, the default path to a folder called \"russian\" in the Documents directory is (substituting your user name on the computer for YOUR-USER-NAME):\n",
    "\n",
    "* On Mac: '/Users/YOUR-USER-NAME/Documents/russian'\n",
    "* On Windows: 'C:\\\\\\Users\\\\\\YOUR-USER-NAME\\\\\\Documents\\\\\\russian'"
   ]
  },
  {
   "cell_type": "code",
   "execution_count": null,
   "metadata": {},
   "outputs": [],
   "source": [
    "#Put the full path to your folder between single quotes here\n",
    "textfolder = '/Users/qad/Documents/russian'\n",
    "#Changes the working directory to the folder you specified\n",
    "os.chdir(textfolder)"
   ]
  },
  {
   "cell_type": "code",
   "execution_count": null,
   "metadata": {},
   "outputs": [],
   "source": [
    "#For every file in the folder you specified...\n",
    "for filename in os.listdir(textfolder):\n",
    "    #If it's a text file, but not one of the text files with just lemmas\n",
    "    if filename.endswith('.txt') and not filename.endswith('-lemmatized.txt'):\n",
    "        #The outname is the name of the lemmatized file that this notebook creates\n",
    "        #If you want it to be named something other than the original file name + -lemmatized\n",
    "        #you can change that here\n",
    "        outname = filename.replace('.txt', '-lemmatized.txt')\n",
    "        #Opens the file you specified\n",
    "        with open(filename, 'r', encoding='utf8') as f:\n",
    "            #Creates an empty text file with -lemmatized.txt appended to the name\n",
    "            with open(outname, 'w', encoding='utf8') as out:\n",
    "                #Reads the text of the file you specified\n",
    "                text = f.read()\n",
    "                #Lemmatizes the text\n",
    "                tokens = mystem.lemmatize(text)\n",
    "                #Creates a Python list of the lemmas\n",
    "                tokens = [token for token in tokens]\n",
    "                #Changes the lemmas from a Python list to a text string\n",
    "                #Lemmas are separated by a space\n",
    "                lemmatized = \"\".join(tokens)\n",
    "                #Writes the lemmas to the text file with -lemmatized appended to the name\n",
    "                out.write(lemmatized)"
   ]
  },
  {
   "cell_type": "markdown",
   "metadata": {},
   "source": [
    "## About\n",
    "\n",
    "This Jupyter notebook was originally developed by Quinn Dombrowski for use in [DLCL 204: Digital Humanities Across Borders](https://github.com/quinnanya/dlcl204) at Stanford University, fall 2020. "
   ]
  }
 ],
 "metadata": {
  "kernelspec": {
   "display_name": "Python 3",
   "language": "python",
   "name": "python3"
  },
  "language_info": {
   "codemirror_mode": {
    "name": "ipython",
    "version": 3
   },
   "file_extension": ".py",
   "mimetype": "text/x-python",
   "name": "python",
   "nbconvert_exporter": "python",
   "pygments_lexer": "ipython3",
   "version": "3.8.3"
  }
 },
 "nbformat": 4,
 "nbformat_minor": 4
}
