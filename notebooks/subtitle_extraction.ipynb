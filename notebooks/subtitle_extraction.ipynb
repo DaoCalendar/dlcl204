{
 "cells": [
  {
   "cell_type": "markdown",
   "metadata": {},
   "source": [
    "# Subtitle extraction Jupyter notebook\n",
    "\n",
    "v. 1.0\n",
    "\n",
    "This Jupyter notebook uses the videocr module to extract subtitle text that has been burned into a video, and converting it into a text file with the timing and text of each subtitle."
   ]
  },
  {
   "cell_type": "markdown",
   "metadata": {},
   "source": [
    "## Install Tesseract OCR\n",
    "Follow the <a href=\"https://github.com/quinnanya/dlcl204/blob/master/tutorials/installing_and_running_tesseract_ocr.md\">steps in this tutorial to install Tesseract OCR</a> before running the rest of this noteb ook."
   ]
  },
  {
   "cell_type": "markdown",
   "metadata": {},
   "source": [
    "## Install videocr module\n",
    "You only have to run the cell below the first time you use this notebook."
   ]
  },
  {
   "cell_type": "code",
   "execution_count": null,
   "metadata": {},
   "outputs": [],
   "source": [
    "#imports the system module\n",
    "import sys\n",
    "#installs the videocr module\n",
    "!{sys.executable} -m pip install videocr"
   ]
  },
  {
   "cell_type": "markdown",
   "metadata": {},
   "source": [
    "## Importing modules\n",
    "Loads the modules you need to run the notebook"
   ]
  },
  {
   "cell_type": "code",
   "execution_count": 1,
   "metadata": {},
   "outputs": [],
   "source": [
    "#os lets you navigate the file system on your computer\n",
    "import os\n",
    "#videocr does the work to extract the subtitles\n",
    "from videocr import save_subtitles_to_file"
   ]
  },
  {
   "cell_type": "markdown",
   "metadata": {},
   "source": [
    "## Setting up the directory\n",
    "This notebook assumes that you have a folder with one or more .mp4 files that have subtitles you'd like to extract. Put the full path to that folder below, between the single quotes.\n",
    "\n",
    "For instance, the default path to the Documents directory is (substituting your user name on the computer for YOUR-USER-NAME):\n",
    "\n",
    "* On Mac: '/Users/YOUR-USER-NAME/Documents'\n",
    "* On Windows: 'C:\\\\Users\\\\YOUR-USER-NAME\\\\Documents'"
   ]
  },
  {
   "cell_type": "code",
   "execution_count": 4,
   "metadata": {},
   "outputs": [],
   "source": [
    "#Put the path to the directory here, between the single quotes\n",
    "videopath = '/Users/qad/Documents/ocrsubs'\n",
    "#Moves to the directory with the video files\n",
    "os.chdir(videopath)"
   ]
  },
  {
   "cell_type": "markdown",
   "metadata": {},
   "source": [
    "## Running the code\n",
    "\n",
    "There are a few parameters you can change here:\n",
    "\n",
    "* lang: the [3-letter (usually) language code](https://en.wikipedia.org/wiki/List_of_ISO_639-1_codes) for the language(s) of the subtitles. If there are two languages, you can use a + between them. So, simplified Chinese and Vietnamese is `chi_sim+vie`.\n",
    "* sim_threshold: you can increase this (up to 100) if you're not getting enough subtitle lines, and decrease it if you're getting too many duplicates. The default value is 90.\n",
    "* conf_threshold: if the OCR algorithm isn't sure of the word it's picking up, that word gets a lower confidence score. Anything lower than the confidence score gets thrown out. The default value of 65 is probably okay in most cases.\n",
    "\n",
    "When you've made any changes to the language or thresholds, run the code below. It will iterate over all the .mp4 files in the folder you specified above.\n",
    "\n",
    "It will probably take a long time to run each file (on a recent MacBook Pro, a half-hour video took over an hour to process). Unless you see an error, just let it keep going."
   ]
  },
  {
   "cell_type": "code",
   "execution_count": null,
   "metadata": {},
   "outputs": [],
   "source": [
    "for filename in os.listdir(videopath):\n",
    "    if filename.endswith('.mp4'):\n",
    "        outname = filename.replace('.mp4', '.txt')\n",
    "        save_subtitles_to_file(filename, file_path=outname, lang='chi_sim+vie', conf_threshold=65, sim_threshold=90)"
   ]
  },
  {
   "cell_type": "markdown",
   "metadata": {},
   "source": [
    "## Suggested citation\n",
    "Dombrowski, Quinn. *Subtitle extraction* Jupyter notebook. https://github.com/quinnanya/dlcl204/blob/master/notebooks/subtitle_extraction.ipynb. 2020."
   ]
  }
 ],
 "metadata": {
  "kernelspec": {
   "display_name": "Python 3",
   "language": "python",
   "name": "python3"
  },
  "language_info": {
   "codemirror_mode": {
    "name": "ipython",
    "version": 3
   },
   "file_extension": ".py",
   "mimetype": "text/x-python",
   "name": "python",
   "nbconvert_exporter": "python",
   "pygments_lexer": "ipython3",
   "version": "3.8.3"
  }
 },
 "nbformat": 4,
 "nbformat_minor": 4
}
