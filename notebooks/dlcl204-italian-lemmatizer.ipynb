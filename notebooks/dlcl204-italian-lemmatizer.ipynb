{
 "cells": [
  {
   "cell_type": "markdown",
   "metadata": {},
   "source": [
    "# Italian lemmatizer with spaCy\n",
    "\n",
    "This Jupyter notebook takes a text file, or folder of text files in Italian, and creates a set of lemmatized derivative files (where all words are in their dictionary form, and not inflected). These lemmatized files can then be used for searching, or other computational text analysis methods.\n",
    "\n",
    "For this notebook, we'll use the natural language processing (NLP) library spaCy, which can support multiple different languages."
   ]
  },
  {
   "cell_type": "markdown",
   "metadata": {},
   "source": [
    "## First-time setup: spaCy library\n",
    "The code cells below below install the *spacy* package which can do the actual lemmatizing. You only need to run it the first time you use this notebook in a particular environment (laptop, virtual machine, etc.) You can skip it the next time you use the notebook, but nothing bad will happen if you re-run it."
   ]
  },
  {
   "cell_type": "code",
   "execution_count": null,
   "metadata": {},
   "outputs": [],
   "source": [
    "#Imports the module you need to download and install the spaCy modules\n",
    "import sys\n",
    "#Installs spaCy\n",
    "!{sys.executable} -m pip install spacy"
   ]
  },
  {
   "cell_type": "markdown",
   "metadata": {},
   "source": [
    "## First-time setup: download language data\n",
    "The cell below downloads the Italian data for the spaCy NLP library. \n",
    "\n",
    "You can also check out [other language data available for spaCy](https://spacy.io/models), but you'll need to make a few other modifications to the code later on in order to use it. If you're new to Python, you might want to try one of the [other lemmatizer notebooks](https://github.com/quinnanya/dlcl204/tree/master/notebooks)."
   ]
  },
  {
   "cell_type": "code",
   "execution_count": null,
   "metadata": {},
   "outputs": [],
   "source": [
    "import spacy\n",
    "!{sys.executable} -m spacy download it_core_news_sm"
   ]
  },
  {
   "cell_type": "markdown",
   "metadata": {},
   "source": [
    "## Importing modules\n",
    "The next code cells imports the modules you need to run this notebook. Run them every time you open this notebook. "
   ]
  },
  {
   "cell_type": "code",
   "execution_count": null,
   "metadata": {},
   "outputs": [],
   "source": [
    "#os is used to navigate your folder directories (e.g. change folders to where you files are stored)\n",
    "import os\n",
    "\n",
    "#imports spaCy\n",
    "import spacy\n",
    "\n",
    "#imports the Italian model\n",
    "import it_core_news_sm\n",
    "\n",
    "#sets up a function so you can run the Italian model on texts\n",
    "itnlp = it_core_news_sm.load()"
   ]
  },
  {
   "cell_type": "markdown",
   "metadata": {},
   "source": [
    "The code cell below imports modules that are useful for cleaning texts, particularly texts converted from ebooks that include typographically fancy single and double quote characters that can break the lemmatization. It also sets up a function, `clean_string`, that we'll use on the text before running the lemmatizer.\n",
    "\n",
    "If your text doesn't have any of these problematic characters, nothing will happen (and that's okay)."
   ]
  },
  {
   "cell_type": "code",
   "execution_count": null,
   "metadata": {},
   "outputs": [],
   "source": [
    "#Imports a module for converting Unicode characters to ASCII (English alphabet & punctuation)\n",
    "import unidecode\n",
    "#Imports a module with data about all the Unicode characters\n",
    "import unicodedata\n",
    "#Imports a module that does regular expressions, a kind of fancy find-and-replace syntax\n",
    "import re\n",
    "\n",
    "#Defines a character filter function\n",
    "def char_filter(string):\n",
    "    #Defines the set of Latin characters\n",
    "    latin = re.compile('[a-zA-Z]+')\n",
    "    #For each character in the text...\n",
    "    for char in unicodedata.normalize('NFC', string):\n",
    "        #Convert it to its ASCII equivalent\n",
    "        decoded = unidecode.unidecode(char)\n",
    "        #If the ASCII equivalent is a letter\n",
    "        if latin.match(decoded):\n",
    "            #Print the original character (so you don't lose accented letters)\n",
    "            yield char\n",
    "        #Otherwise...\n",
    "        else:\n",
    "            #Print the ASCII equivalent (e.g. standard quote character)\n",
    "            yield decoded\n",
    "\n",
    "#Defines a function for cleaning a text\n",
    "def clean_string(string):\n",
    "    #Runs the character filter function and reassmbles the text\n",
    "    return \"\".join(char_filter(string))"
   ]
  },
  {
   "cell_type": "markdown",
   "metadata": {},
   "source": [
    "## Lemmatizing a single file\n",
    "Put the full path to your text file in the cell below, using the correct syntax for your operating system. \n",
    "\n",
    "For instance, the default path a text file in the Documents directory is (substituting your user name on the computer for YOUR-USER-NAME):\n",
    "\n",
    "* On Mac: '/Users/YOUR-USER-NAME/Documents/YOUR-TEXT-FILE.txt'\n",
    "* On Windows: 'C:\\\\\\Users\\\\\\YOUR-USER-NAME\\\\\\Documents\\\\\\YOUR-TEXT-FILE.txt'"
   ]
  },
  {
   "cell_type": "code",
   "execution_count": null,
   "metadata": {},
   "outputs": [],
   "source": [
    "#Put the full path to your file between the single quotes here\n",
    "filepath = '/Users/qad/Downloads/il-codice-sith.txt'\n",
    "\n",
    "#The outname is the name of the lemmatized file that this notebook creates\n",
    "#If you want it to be named something other than the original file name + -lemmatized\n",
    "#you can change that here\n",
    "outname = filepath.replace('.txt', '-lemmatized.txt')"
   ]
  },
  {
   "cell_type": "code",
   "execution_count": null,
   "metadata": {},
   "outputs": [],
   "source": [
    "#Opens the file you specified\n",
    "with open(filepath, 'r', encoding='utf8') as f:\n",
    "    #Creates an empty text file with -lemmatized.txt appended to the name\n",
    "    with open(outname, 'w', encoding='utf8') as out:\n",
    "        #Reads the text of the file you specified\n",
    "        text = f.read()\n",
    "        #Removes any problematic punctuation\n",
    "        cleantext = clean_string(text)\n",
    "        #Does Italian NLP on the cleaned text\n",
    "        doc = itnlp(cleantext)\n",
    "        #For each word in the text...\n",
    "        for token in doc:\n",
    "            #Write the lemma to the new text file with the lemmatized text\n",
    "            out.write(token.lemma_)\n",
    "            #Write a space after each word\n",
    "            out.write(' ')\n",
    "            #Print the lemmas to the screen below, with a space between them\n",
    "            print(token.lemma_, end=' ')"
   ]
  },
  {
   "cell_type": "markdown",
   "metadata": {},
   "source": [
    "## Lemmatizing a folder of text files\n",
    "Put the full path to your folder of text files in the cell below, using the correct syntax for your operating system. \n",
    "\n",
    "For instance, the default path to a folder called \"italian\" in the Documents directory is (substituting your user name on the computer for YOUR-USER-NAME):\n",
    "\n",
    "* On Mac: '/Users/YOUR-USER-NAME/Documents/italian'\n",
    "* On Windows: 'C:\\\\\\Users\\\\\\YOUR-USER-NAME\\\\\\Documents\\\\\\italian'\n",
    "\n",
    "With a whole folder of texts, printing the full text to the screen can make your Jupyter notebook file get very big, so it's been \"turned off\" here. If you want to see the script at work, you can remove the `#` character before the `#print(token.lemma_, end=' ')` at the end of the second cell below."
   ]
  },
  {
   "cell_type": "code",
   "execution_count": null,
   "metadata": {},
   "outputs": [],
   "source": [
    "#Put the full path to your folder between single quotes here\n",
    "textfolder = '/Users/qad/Documents/italian'\n",
    "#Changes the working directory to the folder you specified\n",
    "os.chdir(textfolder)"
   ]
  },
  {
   "cell_type": "code",
   "execution_count": null,
   "metadata": {},
   "outputs": [],
   "source": [
    "#For every file in the folder you specified...\n",
    "for filename in os.listdir(textfolder):\n",
    "    #If it's a text file, but not one of the text files with just lemmas\n",
    "    if filename.endswith('.txt') and not filename.endswith('-lemmatized.txt'):\n",
    "        #The outname is the name of the lemmatized file that this notebook creates\n",
    "        #If you want it to be named something other than the original file name + -lemmatized\n",
    "        #you can change that here\n",
    "        outname = filename.replace('.txt', '-lemmatized.txt')\n",
    "        #Opens the file you specified\n",
    "        with open(filename, 'r', encoding='utf8') as f:\n",
    "            #Creates an empty text file with -lemmatized.txt appended to the name\n",
    "            with open(outname, 'w', encoding='utf8') as out:\n",
    "                #Reads the text of the file you specified\n",
    "                text = f.read()\n",
    "                #Removes any problematic punctuation\n",
    "                cleantext = clean_string(text)\n",
    "                #Does Italian NLP on the cleaned text\n",
    "                doc = itnlp(cleantext)\n",
    "                #For each word in the text...\n",
    "                for token in doc:\n",
    "                    #Write the lemma to the new text file with the lemmatized text\n",
    "                    out.write(token.lemma_)\n",
    "                    #Write a space after each word\n",
    "                    out.write(' ')\n",
    "                    #Print the lemmas to the screen below, with a space between them\n",
    "                    #print(token.lemma_, end=' ')"
   ]
  },
  {
   "cell_type": "markdown",
   "metadata": {},
   "source": [
    "## About\n",
    "\n",
    "This Jupyter notebook was originally developed by Quinn Dombrowski for use in [DLCL 204: Digital Humanities Across Borders](https://github.com/quinnanya/dlcl204) at Stanford University, fall 2020. "
   ]
  }
 ],
 "metadata": {
  "kernelspec": {
   "display_name": "Python 3",
   "language": "python",
   "name": "python3"
  },
  "language_info": {
   "codemirror_mode": {
    "name": "ipython",
    "version": 3
   },
   "file_extension": ".py",
   "mimetype": "text/x-python",
   "name": "python",
   "nbconvert_exporter": "python",
   "pygments_lexer": "ipython3",
   "version": "3.8.3"
  }
 },
 "nbformat": 4,
 "nbformat_minor": 2
}
