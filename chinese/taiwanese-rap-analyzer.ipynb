{
 "cells": [
  {
   "cell_type": "markdown",
   "metadata": {},
   "source": [
    "# Analyzing Taiwanese rap lyrics: tone and \"flow\"\n",
    "This Jupyter notebook was developed for a student in [\"Digital Humanities Across Borders\" (DLCL 204, Stanford University, winter 2019](https://github.com/quinnanya/dlcl204) who was looking at how consecutive words that use the same tone contribute to the \"flow\" of the lyrics.\n",
    "\n",
    "The notebook takes lyrics saved in Unicode (UTF-8) encoded plain text files (one file per song), converts them to pinyin, then for each line, it counts the number of consecutive identical tones. It creates an output file for each song, and marks lines with 3 or more consecutive identical tones with an asterisk. At the moment, that's it! It'd be nice to also mark which tone is repeated, and how many times, but I haven't quite worked that out.\n",
    "\n",
    "## Required modules\n",
    "Before you can run this notebook successfully, you'll need to install a few modules. On a Mac, open the Terminal and run `pip install xpinyin` and `pip install regex`. If you get an error message about running _pip_, you can first run in Terminal `sudo easy_install pip`. Type the login password for your laptop when prompted (don't worry about nothing showing up when you type), and _pip_ should get installed, which will allow you to install the required modules.\n",
    "\n",
    "## File structure\n",
    "To work with this notebook, you should put all your lyrics in a single folder somewhere on your computer. You'll need to specify the location of that folder in the second code block.\n",
    "\n",
    "**Note**: If your computer is localized for Chinese (i.e. if the Mac system interface is in Chinese), when you look for the path (location) information for your folder, it will be displayed in Chinese. When you set the path in this notebook, it turns out that you need to use the default English names (e.g. use *Users* and *Documents* or *Downloads* in your path, even if those folders display with different names on your laptop.)"
   ]
  },
  {
   "cell_type": "markdown",
   "metadata": {},
   "source": [
    "## Step 1: Setup\n",
    "The code block below imports the modules the notebook needs to run.\n",
    "\n",
    "Change the value of *file_directory* (the text between the ' ' marks) to the path to the folder where you've stored the text files with the lyrics."
   ]
  },
  {
   "cell_type": "code",
   "execution_count": 99,
   "metadata": {},
   "outputs": [],
   "source": [
    "#os is for doing things with the operating system, like changing to the right directory\n",
    "import os\n",
    "#regex lets you do complex searching within the text (e.g. looking for tone numbers)\n",
    "import regex\n",
    "#itertools lets you do various kinds of iterative processing, including grouping reults\n",
    "from itertools import groupby\n",
    "from itertools import chain\n",
    "#glob is used to find all the pathnames matching a specified pattern (here, all text files)\n",
    "from glob import glob\n",
    "#xpinyin converts text to pinyin\n",
    "from xpinyin import Pinyin\n",
    "\n",
    "p = Pinyin()\n",
    "\n",
    "#Change the path below to the folder where you store the text files with the lyrics\n",
    "file_directory = '/Users/qad/Documents/twlyrics'\n",
    "\n",
    "#Change the working directory to the folder with your lyrics\n",
    "os.chdir(file_directory)"
   ]
  },
  {
   "cell_type": "markdown",
   "metadata": {},
   "source": [
    "## Step 2: Convert to pinyin\n",
    "\n",
    "This step looks through the folder your specified, and for each .txt file, it rewrites that text file replacing the original Chinese with pinyin. \n",
    "\n",
    "Note that the original file is *replaced*, so if you want to get back to the original Chinese, make sure that you have a copy of the files saved in another folder as well."
   ]
  },
  {
   "cell_type": "code",
   "execution_count": 100,
   "metadata": {},
   "outputs": [],
   "source": [
    "#Looks through the specified folder, and for each .txt file...\n",
    "for filename in os.listdir(filedirectory):\n",
    "    if filename.endswith(\".txt\"):\n",
    "        #Opens and reads the .txt file\n",
    "        f = open(filename, 'r')\n",
    "        text = f.read()\n",
    "        #Converts the lines to pinyin using numbers for tone marks\n",
    "        lines = p.get_pinyin(text, tone_marks='numbers')\n",
    "        #Overwrites the original file with the lines converted to pinyin\n",
    "        with open(filename, 'w') as out:\n",
    "            out.writelines(lines)"
   ]
  },
  {
   "cell_type": "markdown",
   "metadata": {},
   "source": [
    "## Step 3: Count consecutive identical tones\n",
    "This step extracts the numbers indicating the tone marks, counts how many consecutive identical ones there are in each line, then prints lines that meet the criterion of 3+ consecutive identical tones prefixed with an asterisk. Lines that don't meet that criterion are printed normally."
   ]
  },
  {
   "cell_type": "code",
   "execution_count": 104,
   "metadata": {},
   "outputs": [],
   "source": [
    "#Looks through the specified folder, and for each .txt file...\n",
    "for filename in os.listdir(file_directory):\n",
    "    if filename.endswith(\".txt\"):\n",
    "        #Opens the .txt file\n",
    "        with open(filename) as lyricsfile:\n",
    "            #Creates a new .txt file with the same name, but prepended with \"flagged-\"\n",
    "            newfilename = ('flagged-') + filename\n",
    "            #Opens that new .txt file to write to it\n",
    "            f = open(newfilename,'w')\n",
    "            \n",
    "            #For each line in the source file\n",
    "            for line in lyricsfile:\n",
    "                #Find all the numbers 1-5 and put them in a list\n",
    "                tones = regex.findall(r\"[1-5]\", line)\n",
    "                #Counts consecutive duplicate numbers\n",
    "                count_dups = [sum(1 for _ in group) for _, group in groupby(tones)]\n",
    "                #If there are 3, 4, or 5 consecutive duplicates, print an * before the line\n",
    "                #These lines are fairly short, so 5 is probably the maximum conceivable\n",
    "                #But you could copy & paste the elif/print lines to add more numbers\n",
    "                if 3 in count_dups:\n",
    "                    print ('* ', line, file=f)   \n",
    "                elif 4 in count_dups:\n",
    "                    print ('* ', line, file=f) \n",
    "                elif 5 in count_dups:\n",
    "                    print ('* ', line, file=f) \n",
    "                #If there aren't 3-5 consecutive duplicates, just print the line\n",
    "                else:\n",
    "                    print(line, file=f)\n",
    "            #Close the new file\n",
    "            f.close()"
   ]
  }
 ],
 "metadata": {
  "kernelspec": {
   "display_name": "Python 3",
   "language": "python",
   "name": "python3"
  },
  "language_info": {
   "codemirror_mode": {
    "name": "ipython",
    "version": 3
   },
   "file_extension": ".py",
   "mimetype": "text/x-python",
   "name": "python",
   "nbconvert_exporter": "python",
   "pygments_lexer": "ipython3",
   "version": "3.6.8"
  }
 },
 "nbformat": 4,
 "nbformat_minor": 2
}
